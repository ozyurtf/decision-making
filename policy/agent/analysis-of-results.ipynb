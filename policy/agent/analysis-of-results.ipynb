{
 "cells": [
  {
   "cell_type": "markdown",
   "metadata": {},
   "source": [
    "### Importing Libraries"
   ]
  },
  {
   "cell_type": "code",
   "execution_count": 1,
   "metadata": {},
   "outputs": [],
   "source": [
    "import pandas as pd \n",
    "import matplotlib.pyplot as plt \n",
    "import os\n",
    "import glob"
   ]
  },
  {
   "cell_type": "markdown",
   "metadata": {},
   "source": [
    "### Functions for Plotting Results"
   ]
  },
  {
   "cell_type": "code",
   "execution_count": 2,
   "metadata": {},
   "outputs": [],
   "source": [
    "def plot_train_results(root_path, model_type, dataset_type):\n",
    "    train_results = pd.read_csv(root_path + \"train.csv\")\n",
    "    plt.figure(figsize=(10, 5))\n",
    "    plt.plot(train_results['frame'], train_results['actor_loss'], label=\"Actor Loss\", color='b')\n",
    "    plt.xlabel(\"Frame\")\n",
    "    plt.ylabel(\"Actor Loss\")\n",
    "    plt.title(f\"Actor Loss over Training Frames ({model_type} - {dataset_type})\")\n",
    "    plt.legend()\n",
    "    plt.grid()\n",
    "    plt.show()\n"
   ]
  },
  {
   "cell_type": "code",
   "execution_count": 3,
   "metadata": {},
   "outputs": [],
   "source": [
    "def plot_eval_results(root_path, model_type, dataset_type):\n",
    "    eval_results = pd.read_csv(root_path + \"eval.csv\")\n",
    "    fig, ax1 = plt.subplots(figsize=(10, 5))\n",
    "\n",
    "    ax1.plot(eval_results['frame'], eval_results['episode_length'], label=\"Episode Length\", color='b')\n",
    "    ax1.set_xlabel(\"Frame\")\n",
    "    ax1.set_ylabel(\"Episode Length\", color='b')\n",
    "    ax1.tick_params(axis='y', labelcolor='b')\n",
    "\n",
    "    ax2 = ax1.twinx()\n",
    "    ax2.plot(eval_results['frame'], eval_results['episode_reward'], label=\"Episode Reward\", color='r', linestyle='dashed')\n",
    "    ax2.set_ylabel(\"Episode Reward\", color='r')\n",
    "    ax2.tick_params(axis='y', labelcolor='r')\n",
    "\n",
    "    plt.title(f\"Evaluation Metrics ({model_type} - {dataset_type})\")\n",
    "    ax1.grid()\n",
    "\n",
    "    plt.show()\n"
   ]
  },
  {
   "cell_type": "markdown",
   "metadata": {},
   "source": [
    "### Defining Root Paths"
   ]
  },
  {
   "cell_type": "code",
   "execution_count": null,
   "metadata": {},
   "outputs": [],
   "source": [
    "root_path = \"../exp_local\"\n",
    "\n",
    "bc_fixed_root_path = root_path + \"bc_fixed/\"\n",
    "bc_changing_root_path = root_path + \"bc_changing/\"\n",
    "gcbc_fixed_root_path = root_path + \"gcbc_fixed/\"\n",
    "gcbc_changing_root_path = root_path + \"gcbc_changing/\"\n",
    "bc_multimodal_root_path = root_path + \"bc_multimodal/\"\n",
    "bet_multimodal_root_path = root_path + \"bet_multimodal/\""
   ]
  },
  {
   "cell_type": "markdown",
   "metadata": {},
   "source": [
    "### Behavior Cloning - Fixed Dataset"
   ]
  },
  {
   "cell_type": "code",
   "execution_count": 5,
   "metadata": {},
   "outputs": [
    {
     "ename": "TypeError",
     "evalue": "unsupported operand type(s) for +: 'NoneType' and 'str'",
     "output_type": "error",
     "traceback": [
      "\u001b[0;31m---------------------------------------------------------------------------\u001b[0m",
      "\u001b[0;31mTypeError\u001b[0m                                 Traceback (most recent call last)",
      "Cell \u001b[0;32mIn[5], line 1\u001b[0m\n\u001b[0;32m----> 1\u001b[0m \u001b[43mplot_train_results\u001b[49m\u001b[43m(\u001b[49m\u001b[43mbc_fixed_root_path\u001b[49m\u001b[43m,\u001b[49m\u001b[43m \u001b[49m\u001b[38;5;124;43m\"\u001b[39;49m\u001b[38;5;124;43mBehavior Cloning\u001b[39;49m\u001b[38;5;124;43m\"\u001b[39;49m\u001b[43m,\u001b[49m\u001b[43m \u001b[49m\u001b[38;5;124;43m\"\u001b[39;49m\u001b[38;5;124;43mFixed Dataset\u001b[39;49m\u001b[38;5;124;43m\"\u001b[39;49m\u001b[43m)\u001b[49m\n",
      "Cell \u001b[0;32mIn[2], line 2\u001b[0m, in \u001b[0;36mplot_train_results\u001b[0;34m(root_path, model_type, dataset_type)\u001b[0m\n\u001b[1;32m      1\u001b[0m \u001b[38;5;28;01mdef\u001b[39;00m \u001b[38;5;21mplot_train_results\u001b[39m(root_path, model_type, dataset_type):\n\u001b[0;32m----> 2\u001b[0m     train_results \u001b[38;5;241m=\u001b[39m pd\u001b[38;5;241m.\u001b[39mread_csv(\u001b[43mroot_path\u001b[49m\u001b[43m \u001b[49m\u001b[38;5;241;43m+\u001b[39;49m\u001b[43m \u001b[49m\u001b[38;5;124;43m\"\u001b[39;49m\u001b[38;5;124;43mtrain.csv\u001b[39;49m\u001b[38;5;124;43m\"\u001b[39;49m)\n\u001b[1;32m      3\u001b[0m     plt\u001b[38;5;241m.\u001b[39mfigure(figsize\u001b[38;5;241m=\u001b[39m(\u001b[38;5;241m10\u001b[39m, \u001b[38;5;241m5\u001b[39m))\n\u001b[1;32m      4\u001b[0m     plt\u001b[38;5;241m.\u001b[39mplot(train_results[\u001b[38;5;124m'\u001b[39m\u001b[38;5;124mframe\u001b[39m\u001b[38;5;124m'\u001b[39m], train_results[\u001b[38;5;124m'\u001b[39m\u001b[38;5;124mactor_loss\u001b[39m\u001b[38;5;124m'\u001b[39m], label\u001b[38;5;241m=\u001b[39m\u001b[38;5;124m\"\u001b[39m\u001b[38;5;124mActor Loss\u001b[39m\u001b[38;5;124m\"\u001b[39m, color\u001b[38;5;241m=\u001b[39m\u001b[38;5;124m'\u001b[39m\u001b[38;5;124mb\u001b[39m\u001b[38;5;124m'\u001b[39m)\n",
      "\u001b[0;31mTypeError\u001b[0m: unsupported operand type(s) for +: 'NoneType' and 'str'"
     ]
    }
   ],
   "source": [
    "plot_train_results(bc_fixed_root_path, \"Behavior Cloning\", \"Fixed Dataset\")"
   ]
  },
  {
   "cell_type": "code",
   "execution_count": null,
   "metadata": {},
   "outputs": [],
   "source": [
    "plot_eval_results(bc_fixed_root_path, \"Behavior Cloning\", \"Fixed Dataset\")"
   ]
  },
  {
   "cell_type": "markdown",
   "metadata": {},
   "source": [
    "### Behavior Cloning - Changing Dataset"
   ]
  },
  {
   "cell_type": "code",
   "execution_count": null,
   "metadata": {},
   "outputs": [],
   "source": [
    "plot_train_results(bc_changing_root_path, \"Behavior Cloning\", \"Changing Dataset\")"
   ]
  },
  {
   "cell_type": "code",
   "execution_count": null,
   "metadata": {},
   "outputs": [],
   "source": [
    "plot_eval_results(bc_changing_root_path, \"Behavior Cloning\", \"Changing Dataset\")"
   ]
  },
  {
   "cell_type": "markdown",
   "metadata": {},
   "source": [
    "### Goal Conditioned Behavior Cloning - Fixed Dataset"
   ]
  },
  {
   "cell_type": "code",
   "execution_count": null,
   "metadata": {},
   "outputs": [],
   "source": [
    "plot_train_results(gcbc_fixed_root_path, \"Goal Conditioned Behavior Cloning\", \"Fixed Dataset\")"
   ]
  },
  {
   "cell_type": "code",
   "execution_count": null,
   "metadata": {},
   "outputs": [],
   "source": [
    "plot_eval_results(gcbc_fixed_root_path, \"Goal Conditioned Behavior Cloning\", \"Fixed Dataset\")"
   ]
  },
  {
   "cell_type": "markdown",
   "metadata": {},
   "source": [
    "### Goal Conditioned Behavior Cloning - Changing Dataset"
   ]
  },
  {
   "cell_type": "code",
   "execution_count": null,
   "metadata": {},
   "outputs": [],
   "source": [
    "plot_train_results(gcbc_changing_root_path, \"Goal Conditioned Behavior Cloning\", \"Changing Dataset\")"
   ]
  },
  {
   "cell_type": "code",
   "execution_count": null,
   "metadata": {},
   "outputs": [],
   "source": [
    "plot_eval_results(gcbc_changing_root_path, \"Goal Conditioned Behavior Cloning\", \"Changing Dataset\")"
   ]
  },
  {
   "cell_type": "markdown",
   "metadata": {},
   "source": [
    "### Behavior Transformer - Multimodal Dataset"
   ]
  },
  {
   "cell_type": "code",
   "execution_count": null,
   "metadata": {},
   "outputs": [],
   "source": [
    "plot_train_results(bet_multimodal_root_path, \"Behavior Transformer\", \"Multimodal Dataset\")"
   ]
  },
  {
   "cell_type": "code",
   "execution_count": null,
   "metadata": {},
   "outputs": [],
   "source": [
    "plot_eval_results(bet_multimodal_root_path, \"Behavior Transformer\", \"Multimodal Dataset\")"
   ]
  },
  {
   "cell_type": "markdown",
   "metadata": {},
   "source": [
    "### Behavior Cloning - Multimodal Dataset"
   ]
  },
  {
   "cell_type": "code",
   "execution_count": null,
   "metadata": {},
   "outputs": [],
   "source": [
    "plot_train_results(bc_multimodal_root_path, \"Behavior Cloning\", \"Multimodal Dataset\")"
   ]
  },
  {
   "cell_type": "code",
   "execution_count": null,
   "metadata": {},
   "outputs": [],
   "source": [
    "plot_eval_results(bc_multimodal_root_path, \"Behavior Cloning\", \"Multimodal Dataset\")"
   ]
  }
 ],
 "metadata": {
  "kernelspec": {
   "display_name": "ddrl",
   "language": "python",
   "name": "python3"
  },
  "language_info": {
   "codemirror_mode": {
    "name": "ipython",
    "version": 3
   },
   "file_extension": ".py",
   "mimetype": "text/x-python",
   "name": "python",
   "nbconvert_exporter": "python",
   "pygments_lexer": "ipython3",
   "version": "3.8.20"
  }
 },
 "nbformat": 4,
 "nbformat_minor": 2
}
